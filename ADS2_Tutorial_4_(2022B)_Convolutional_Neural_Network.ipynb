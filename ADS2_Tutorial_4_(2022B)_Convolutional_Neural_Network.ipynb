{
  "nbformat": 4,
  "nbformat_minor": 0,
  "metadata": {
    "colab": {
      "provenance": [],
      "include_colab_link": true
    },
    "kernelspec": {
      "name": "python3",
      "display_name": "Python 3"
    },
    "language_info": {
      "name": "python"
    },
    "gpuClass": "standard"
  },
  "cells": [
    {
      "cell_type": "markdown",
      "metadata": {
        "id": "view-in-github",
        "colab_type": "text"
      },
      "source": [
        "<a href=\"https://colab.research.google.com/github/ebereinyiama/ADS-Assignment1/blob/main/ADS2_Tutorial_4_(2022B)_Convolutional_Neural_Network.ipynb\" target=\"_parent\"><img src=\"https://colab.research.google.com/assets/colab-badge.svg\" alt=\"Open In Colab\"/></a>"
      ]
    },
    {
      "cell_type": "markdown",
      "metadata": {
        "id": "IFn01UrTj1YS"
      },
      "source": [
        "# Tutorial 4 - Convolutional Neural Networks\n",
        "\n",
        "In this tutorial, we will build a convolutional neural network for predicting the label of images which contain handwritten digits. The MNIST dataset is a widely used benchmarking dataset in the ML community, and consists of 70,000, 28x28 pixel images."
      ]
    },
    {
      "cell_type": "code",
      "metadata": {
        "id": "Qb2HPdzPjO3I",
        "colab": {
          "base_uri": "https://localhost:8080/"
        },
        "outputId": "ee1089e9-4a0d-4df3-e134-047cd1a921d7"
      },
      "source": [
        "# Import tensorflow and load the MNIST image dataset\n",
        "\n",
        "import tensorflow as tf\n",
        "import numpy as np\n",
        "\n",
        "# Dataset is split into 60,000 training images and 10,000 testing images\n",
        "# Each image is given a label from (0,9), corresponding to the class\n",
        "(x_train, y_train), (x_test, y_test) = tf.keras.datasets.\\\n",
        "                                                mnist.load_data()\n"
      ],
      "execution_count": 11,
      "outputs": [
        {
          "output_type": "stream",
          "name": "stdout",
          "text": [
            "Downloading data from https://storage.googleapis.com/tensorflow/tf-keras-datasets/mnist.npz\n",
            "11490434/11490434 [==============================] - 0s 0us/step\n"
          ]
        }
      ]
    },
    {
      "cell_type": "markdown",
      "source": [
        "# Exercise 1\n",
        "\n",
        "Check the data by plotting some of the images, using their class labels as image titles. Use subplots to display 10 of the images from the training set.\n",
        "\n",
        "Convert the images to `dtype=\"float32\"` and scale the pixels to a range of (0,255)."
      ],
      "metadata": {
        "id": "RbgQeV0B4ZeS"
      }
    },
    {
      "cell_type": "code",
      "metadata": {
        "id": "SZfOGI37nB-O",
        "colab": {
          "base_uri": "https://localhost:8080/",
          "height": 265
        },
        "outputId": "46f2bc46-bd8c-4c96-a084-5882a041d260"
      },
      "source": [
        "### Plot 10 of the training images in a (2,5) grid of subplots\n",
        "### Use the image labels as titles on the subplots\n",
        "# plt.subplots, axis.imshow, axis.set_title\n",
        "import matplotlib.pyplot as plt\n",
        "\n",
        "f, ax = plt.subplots(2, 5, figsize=(10,4))\n",
        "ax = ax.flatten()\n",
        "\n",
        "for i in range(10):\n",
        "  ax[i].imshow(x_train[i,:,:])\n",
        "  ax[i].set_title(f'Label = {y_train[i]}') #prints the labels\n",
        "  ax[i].set_xticks([])\n",
        "  ax[i].set_yticks([])\n",
        "\n",
        "plt.show()\n"
      ],
      "execution_count": 12,
      "outputs": [
        {
          "output_type": "display_data",
          "data": {
            "text/plain": [
              "<Figure size 720x288 with 10 Axes>"
            ],
            "image/png": "[encoded data removed]"
          },
          "metadata": {}
        }
      ]
    },
    {
      "cell_type": "code",
      "metadata": {
        "id": "VLh69IDQns2M"
      },
      "source": [
        "### Convert the images to floats and scale the pixel to a range of\n",
        "### (0,1). Reshape the images to shape (-1, 28, 28, 1).\n",
        "# array.astype, np.reshape\n",
        "\n",
        "x_train = np.reshape(x_train.astype('float32'), (-1, 28, 28, 1))/255.\n",
        "x_test = np.reshape(x_test.astype('float32'), (-1, 28, 28, 1))/255."
      ],
      "execution_count": 13,
      "outputs": []
    },
    {
      "cell_type": "markdown",
      "metadata": {
        "id": "fAk9cmUTrWVT"
      },
      "source": [
        "# Exercise 2\n",
        "\n",
        "A Convolutional Neural Network utilises convolutional layers to identify salient features within images—such as edges, curves, changes in brightness. Complete the following Keras Seuqential model so that it has these layers:\n",
        "\n",
        "```\n",
        "Input Layer - Shape = (28,28,1), dtype='float32'\n",
        "Convoltuonal Layer - 32 filters, (1,1) stride, (3,3) kernel, 'relu' activation, 'same' padding\n",
        "Max Pooling Layer - (2,2) pool size\n",
        "Convoltuonal Layer - 32 filters, (1,1) stride, (3,3) kernel, 'relu' activation, 'same' padding\n",
        "Max Pooling Layer - (2,2) pool size\n",
        "Flattent Layer\n",
        "Dense Layer - 64 units, 'relu' activation\n",
        "Dense Layer - 10 units\n",
        "```\n",
        "\n",
        "Print the model summary.\n"
      ]
    },
    {
      "cell_type": "code",
      "source": [
        "### Create the layers for the CNN model, using the Functional API\n",
        "# Input, Conv2D, MaxPool2D, Flatten, Dense\n",
        "\n",
        "from tensorflow.keras import layers, models\n",
        "\n",
        "Inp = layers.Input((28,28,1), dtype='float32', name='Model_Input')\n",
        "Conv1 = layers.Conv2D(32, (3,3), activation='relu',\n",
        "                      padding='same', name='conv_1')(Inp)\n",
        "Pool1 = layers.MaxPool2D(pool_size=(2,2),\n",
        "                         name='pool_1')(Conv1)\n",
        "Conv2 = layers.Conv2D(32, (3,3), activation='relu',\n",
        "                      padding='same', name='conv_2')(Pool1)\n",
        "Pool2 = layers.MaxPool2D(pool_size=(2,2),\n",
        "                         name='pool_2')(Conv2)\n",
        "Flat = layers.Flatten()(Pool2)\n",
        "Dense1 = layers.Dense(64, activation='relu', name='fc_1')(Flat)\n",
        "Dense2 = layers.Dense(10, name='fc_2')(Dense1)\n",
        "\n"
      ],
      "metadata": {
        "id": "izoOK1_b5fkR"
      },
      "execution_count": 14,
      "outputs": []
    },
    {
      "cell_type": "code",
      "source": [
        "### Create the model, using the input and output tensors you have define above.\n",
        "# models.Model\n",
        "\n",
        "mnist_model = models.Model(inputs=Inp, outputs=Dense2)\n",
        "mnist_model.summary()"
      ],
      "metadata": {
        "id": "jiO_5Wd7Wh8p",
        "colab": {
          "base_uri": "https://localhost:8080/"
        },
        "outputId": "3f39992f-4270-4ccd-8266-af8c3bfa6e76"
      },
      "execution_count": 15,
      "outputs": [
        {
          "output_type": "stream",
          "name": "stdout",
          "text": [
            "Model: \"model_4\"\n",
            "_________________________________________________________________\n",
            " Layer (type)                Output Shape              Param #   \n",
            "=================================================================\n",
            " Model_Input (InputLayer)    [(None, 28, 28, 1)]       0         \n",
            "                                                                 \n",
            " conv_1 (Conv2D)             (None, 28, 28, 32)        320       \n",
            "                                                                 \n",
            " pool_1 (MaxPooling2D)       (None, 14, 14, 32)        0         \n",
            "                                                                 \n",
            " conv_2 (Conv2D)             (None, 14, 14, 32)        9248      \n",
            "                                                                 \n",
            " pool_2 (MaxPooling2D)       (None, 7, 7, 32)          0         \n",
            "                                                                 \n",
            " flatten_1 (Flatten)         (None, 1568)              0         \n",
            "                                                                 \n",
            " fc_1 (Dense)                (None, 64)                100416    \n",
            "                                                                 \n",
            " fc_2 (Dense)                (None, 10)                650       \n",
            "                                                                 \n",
            "=================================================================\n",
            "Total params: 110,634\n",
            "Trainable params: 110,634\n",
            "Non-trainable params: 0\n",
            "_________________________________________________________________\n"
          ]
        }
      ]
    },
    {
      "cell_type": "markdown",
      "source": [
        "# Exercise 3\n",
        "\n",
        "Now we must prepare the model for training. Compile the model using the Adam Optimizer, Sparse Categorical Crossentropy loss `(from_logits=True)`, and the accuracy metric."
      ],
      "metadata": {
        "id": "hrehA_em-fVW"
      }
    },
    {
      "cell_type": "code",
      "metadata": {
        "id": "y-1gZgTc3Hxw"
      },
      "source": [
        "### Compile the model with the Adam optimizer, Sparse Categorical Crossentropy\n",
        "### loss (from_logits=True), and the accuracy metric\n",
        "# optimizers.Adam, losses.SparseCategoricalCrossentropy\n",
        "from tensorflow.keras import losses, optimizers\n",
        "\n",
        "mnist_model.compile(optimizer=optimizers.Adam(), loss=losses.SparseCategoricalCrossentropy(from_logits=True), metrics=['accuracy'])"
      ],
      "execution_count": 16,
      "outputs": []
    },
    {
      "cell_type": "markdown",
      "source": [
        "# Exercise 4\n",
        "\n",
        "Train the model on the training data using the `.fit` method. Train for 25 epochs. Use the testing data for validation. Store the losses and metrics in the history object.\n",
        "\n",
        "Plot the losses and metrics for the training and validation data. What do these plots tell us about the model performance? Why is the model better at classifying the training images? Has the model reached an optimal solution?"
      ],
      "metadata": {
        "id": "b3ITrF-SAs7p"
      }
    },
    {
      "cell_type": "code",
      "metadata": {
        "id": "JWMt1lp576xW",
        "colab": {
          "base_uri": "https://localhost:8080/"
        },
        "outputId": "eda7b499-e67c-4abd-957e-9fe5cbd9854b"
      },
      "source": [
        "### Train the model for 25 epochs on the training images and labels\n",
        "### Using the test images and labels as validation data\n",
        "\n",
        "history = mnist_model.fit(x=x_train, y=y_train, epochs=25, validation_data=(x_test, y_test), batch_size=512)\n",
        "\n",
        "# Keys inside the history dictionary.\n",
        "print(history.history.keys)"
      ],
      "execution_count": null,
      "outputs": [
        {
          "output_type": "stream",
          "name": "stdout",
          "text": [
            "Epoch 1/25\n",
            "118/118 [==============================] - 85s 702ms/step - loss: 0.5259 - accuracy: 0.8531 - val_loss: 0.1494 - val_accuracy: 0.9526\n",
            "Epoch 2/25\n",
            "118/118 [==============================] - 73s 622ms/step - loss: 0.1184 - accuracy: 0.9646 - val_loss: 0.0767 - val_accuracy: 0.9768\n",
            "Epoch 3/25\n",
            "118/118 [==============================] - 63s 539ms/step - loss: 0.0776 - accuracy: 0.9765 - val_loss: 0.0567 - val_accuracy: 0.9813\n",
            "Epoch 4/25\n",
            "118/118 [==============================] - 61s 517ms/step - loss: 0.0591 - accuracy: 0.9826 - val_loss: 0.0466 - val_accuracy: 0.9852\n",
            "Epoch 5/25\n",
            "118/118 [==============================] - 64s 546ms/step - loss: 0.0514 - accuracy: 0.9842 - val_loss: 0.0420 - val_accuracy: 0.9855\n",
            "Epoch 6/25\n",
            "118/118 [==============================] - 73s 618ms/step - loss: 0.0429 - accuracy: 0.9870 - val_loss: 0.0443 - val_accuracy: 0.9854\n",
            "Epoch 7/25\n",
            "118/118 [==============================] - 87s 739ms/step - loss: 0.0381 - accuracy: 0.9884 - val_loss: 0.0343 - val_accuracy: 0.9878\n",
            "Epoch 8/25\n",
            "118/118 [==============================] - 81s 685ms/step - loss: 0.0330 - accuracy: 0.9896 - val_loss: 0.0351 - val_accuracy: 0.9880\n",
            "Epoch 9/25\n",
            "118/118 [==============================] - 69s 582ms/step - loss: 0.0305 - accuracy: 0.9902 - val_loss: 0.0397 - val_accuracy: 0.9867\n",
            "Epoch 10/25\n",
            "118/118 [==============================] - 64s 542ms/step - loss: 0.0274 - accuracy: 0.9918 - val_loss: 0.0456 - val_accuracy: 0.9849\n",
            "Epoch 11/25\n",
            "118/118 [==============================] - 62s 523ms/step - loss: 0.0235 - accuracy: 0.9926 - val_loss: 0.0379 - val_accuracy: 0.9880\n",
            "Epoch 12/25\n",
            "118/118 [==============================] - 63s 530ms/step - loss: 0.0236 - accuracy: 0.9927 - val_loss: 0.0333 - val_accuracy: 0.9893\n",
            "Epoch 13/25\n",
            "118/118 [==============================] - 75s 633ms/step - loss: 0.0208 - accuracy: 0.9935 - val_loss: 0.0307 - val_accuracy: 0.9899\n",
            "Epoch 14/25\n",
            "118/118 [==============================] - 61s 518ms/step - loss: 0.0175 - accuracy: 0.9947 - val_loss: 0.0355 - val_accuracy: 0.9879\n",
            "Epoch 15/25\n",
            "  4/118 [>.............................] - ETA: 49s - loss: 0.0109 - accuracy: 0.9971"
          ]
        }
      ]
    },
    {
      "cell_type": "code",
      "source": [
        "### Plot the losses and metrics for the training and validation data.\n",
        "### These values are stored inside the history.history dictionary object.\n",
        "### You should make two plots, one for the losses, and one for the metrics.\n",
        "\n",
        "plt.figure()\n",
        "plt.plot(history.history['loss'], label = 'Training')\n",
        "plt.plot(history.history['val_loss'], label = 'Validation')\n",
        "plt.legend(loc=0)\n",
        "plt.title('Model Loss')\n",
        "\n",
        "plt.figure()\n",
        "plt.plot(history.history['accuracy'], label = 'Training')\n",
        "plt.plot(history.history['val_accuracy'], label = 'Validation')\n",
        "plt.legend(loc=0)\n",
        "plt.title('Model Accuracy')\n"
      ],
      "metadata": {
        "id": "1OzA1nBFXdsT"
      },
      "execution_count": null,
      "outputs": []
    },
    {
      "cell_type": "markdown",
      "metadata": {
        "id": "o2EL3e8tVLcL"
      },
      "source": [
        "# Exercise 5\n",
        "\n",
        "Currently, the output of our model is in the form of \"logits\", these are raw predictions that we can map to a probability for each of the 10 classes in our data. To do so, create a sequential model, where the first layer is the model you just trained—models can in fact be treated as layers in a higher level model—and the second layer is ```layers.Softmax()```."
      ]
    },
    {
      "cell_type": "code",
      "metadata": {
        "id": "8M8sFVIfV4F5"
      },
      "source": [
        "### Add a softmax activation layer by creating a new seuqential model that\n",
        "### takes the original model as the first layer in the list\n",
        "# models.Sequential, layers.Softmax\n",
        "import numpy as np\n",
        "\n",
        "prediction_model = models.Sequential([mnist_model, layers.Softmax()])"
      ],
      "execution_count": null,
      "outputs": []
    },
    {
      "cell_type": "markdown",
      "metadata": {
        "id": "uGufQuzhWsAq"
      },
      "source": [
        "The output of the model is now a 10-element vector for each image, which represents the probability distribution of the class labels.\n",
        "\n",
        "Use the `.predict` method to calculate the probabilities of the images in the test sample.\n",
        "\n",
        "Use the numpy function `argmax()` to find the highest probability class for the images."
      ]
    },
    {
      "cell_type": "code",
      "metadata": {
        "id": "RAF6qKOMWtZ_"
      },
      "source": [
        "### Use the .predict method to find the probabilities of each test image being\n",
        "### within each of the 10 classes. Then find the highest probability class for\n",
        "### each test image\n",
        "# .predict, np.argmax\n",
        "\n",
        "y_pred = prediction_model.predict(x_test)\n",
        "y_pred_label = np.argmax(y_pred, axis=1)"
      ],
      "execution_count": null,
      "outputs": []
    },
    {
      "cell_type": "markdown",
      "source": [
        "# Exercise 6\n",
        "\n",
        "Create a plot which displays images in a (5,5) grid, and show the ground truth and predicted class labels for each image as a title. (Extra challenge, choose the images at random, not in the order of the test set. Extra EXTRA challenge, create plots which have only images that are correctly or incorrectly predicted.)"
      ],
      "metadata": {
        "id": "waN0sKBbQbjq"
      }
    },
    {
      "cell_type": "code",
      "metadata": {
        "id": "gPJhI4ODZYdd"
      },
      "source": [
        "### Create a plot which displays images in a (5,5) grid, and show the ground\n",
        "### truth and predicted class labels for each image as a title.\n",
        "\n",
        "f, ax = plt.subplots(5, 5, figsize=(10,12))\n",
        "ax = ax.flatten()\n",
        "\n",
        "for i in range(25):\n",
        "  ax[i].imshow(x_test[i,:,:,0])\n",
        "  ax[i].set_title(f'Truth = {y_test[i]}\\nPred = {y_pred_label[i]}') #prints the labels\n",
        "  ax[i].set_xticks([])\n",
        "  ax[i].set_yticks([])\n",
        "\n",
        "plt.show()"
      ],
      "execution_count": null,
      "outputs": []
    }
  ]
}