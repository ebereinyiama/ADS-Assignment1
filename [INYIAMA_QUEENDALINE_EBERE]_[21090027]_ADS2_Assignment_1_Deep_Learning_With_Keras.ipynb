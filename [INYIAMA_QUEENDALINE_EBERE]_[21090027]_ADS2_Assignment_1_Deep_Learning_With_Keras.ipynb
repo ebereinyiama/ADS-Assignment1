{
  "cells": [
    {
      "cell_type": "markdown",
      "metadata": {
        "id": "view-in-github",
        "colab_type": "text"
      },
      "source": [
        "<a href=\"https://colab.research.google.com/github/ebereinyiama/ADS-Assignment1/blob/main/%5BINYIAMA_QUEENDALINE_EBERE%5D_%5B21090027%5D_ADS2_Assignment_1_Deep_Learning_With_Keras.ipynb\" target=\"_parent\"><img src=\"https://colab.research.google.com/assets/colab-badge.svg\" alt=\"Open In Colab\"/></a>"
      ]
    },
    {
      "cell_type": "markdown",
      "metadata": {
        "id": "pAeyW4-cyEZx"
      },
      "source": [
        "# Assignment 1 - Deep Learning With Keras - 40%\n",
        "\n",
        "**IMPORTANT NOTE**: By default, this notebook is set to a CPU runtime, to help prevent you getting locked out of Google Colab. When training your models, you will need to switch to a GPU runtime, otherwise the training will take a very long time.\n",
        "\n",
        "**Deadline**: 21 Mar 2023, 23:59\n",
        "\n",
        "**Submission Requirements**: You should submit your Colab Notebook, with all the outputs printed, and a sharing link to the notebook in your Drive. As detailed above, you should submit a 2-page report in PDF or DOCX format.\n",
        "\n",
        "**Learning Outcomes**\n",
        "\n",
        "This Assignment assesses the following module Learning Outcomes (from Definitive Module Document):\n",
        "\n",
        "* have knowledge of and understand how GPUs can accelerate data processing\n",
        "* be able to write data processing pipelines that exploit Tensorflow\n",
        "* have knowledge of and understand how to develop GPU-accelerated data processing pipelines using the Tensorflow and RAPIDS frameworks\n",
        "\n",
        "**Assignment Details**\n",
        "\n",
        "This assignment will test your ability to implement and test a deep neural network using keras. By varying the properties of the model and the data input pipeline, you will explore and analyse the training time and performance of the model. There will be four tasks for you to complete, each of which requires you to complete a range of tests on the model, visualise the results, and comment on them in a short report. Your report should focus on explaining and critically analysing the results—you will be assessed not just on your ability to show what is happening, but explain WHY it is happening.\n",
        "\n",
        "All coding work for this assignment should be done inside a copy of the Colab Notebook provided on this page. Any submissions not in this format will not be marked.\n",
        "\n",
        "**Task 1**: A model description is provided in the Colab Notebook for this assignment. Implement this model, ensuring that you have the correct output shapes for each of the layers and the correct number of model parameters. Train the model on the dataset provided in the notebook—initial training settings are provided also. Create plots of the losses and metrics of the training and validation data, and a plot that shows example images from each class that have been correctly AND incorrectly labelled by the model. Analyse these results in your report.\n",
        "\n",
        "**Task 2**: Select two additional optimizers. Including the one provided in the initial training settings, test your model with each of these optimizers using a range of different learning rates. You may need to train the model for more epochs to ensure that it converges on a solution. Create plots that show the losses and metrics for each of these runs, and comment on the results in your report. Select the optimizer and learning rate that provided the best results, and move onto the next task.\n",
        "\n",
        "**Task 3**: The batch size can heavily influence the amount of time it takes to train a model. Vary the batch size used to train the model and, utilising the Early Stopping callback provided, create plots that show how the time per epoch and total training time changes. Comment on these results in your report.\n",
        "\n",
        "**Task 4**: The model as provided does not contain any regularisation techniques. Edit the model architecture to include at least two examples of regularisation. Retrain the model using the new architecture, and repeat the analysis performed in task 1. In your report, compare and contrast the results from this task, with those from the initial model configuration.\n",
        "\n"
      ]
    },
    {
      "cell_type": "code",
      "execution_count": 3,
      "metadata": {
        "id": "Q49oFfxbx3g_"
      },
      "outputs": [],
      "source": [
        "# Module Imports - Add any additional modules here\n",
        "import tensorflow as tf\n",
        "import numpy as np\n",
        "import matplotlib.pyplot as plt\n",
        "from tensorflow.keras import layers, models, optimizers, losses, callbacks,\\\n",
        "                             regularizers"
      ]
    },
    {
      "cell_type": "code",
      "execution_count": 4,
      "metadata": {
        "id": "XDxDRN2LzEzE",
        "colab": {
          "base_uri": "https://localhost:8080/"
        },
        "outputId": "a4dc6b35-289a-400b-d67e-0a20db1f0761"
      },
      "outputs": [
        {
          "output_type": "stream",
          "name": "stdout",
          "text": [
            "Downloading data from https://www.cs.toronto.edu/~kriz/cifar-10-python.tar.gz\n",
            "170498071/170498071 [==============================] - 13s 0us/step\n"
          ]
        }
      ],
      "source": [
        "# Loading the Dataset. Here we use the CIFAR-10 dataset of labelled images\n",
        "\n",
        "(x_train, y_train), (x_test, y_test) = tf.keras.datasets.cifar10.load_data()\n",
        "\n",
        "# Rescale the pixel values\n",
        "x_train = x_train/255.\n",
        "x_test = x_test/255.\n",
        "\n",
        "# List of label names\n",
        "class_names = ['plane', 'car', 'bird', 'cat', 'deer',\n",
        "               'canine', 'frog', 'horse', 'boat', 'truck']"
      ]
    },
    {
      "cell_type": "markdown",
      "metadata": {
        "id": "--hu0b080wJg"
      },
      "source": [
        "# Task 1 - Initial Model\n",
        "\n",
        "Implement the model architecture detailed below, using the Keras Functional API, ensuring that you have the correct output shapes for each of the layers.\n",
        "\n",
        "Train the model on the CIFAR-10 dataset.\n",
        "\n",
        "Create plots of the losses and metrics of the training and validation data, and plots that show example test images from each class that have been correctly AND incorrectly labelled by the model.\n",
        "\n",
        "Analyse these results in your report.\n",
        "\n",
        "**Model Architecture**\n",
        "\n",
        "A summary of the model architecture is given here, which shows the layers of the model, the output shapes of those layers, and the activation functions used. You will need to work out the other settings used to produce the model, such as the kernal sizes, padding schemes, and stride lengths. You should ensure that the output shapes and total number of parameters in your model match the summary here.\n",
        "\n",
        "```\n",
        "Model: \"cifar_model\"\n",
        "_________________________________________________________________\n",
        " Layer (type)                Output Shape              Activation   \n",
        "=================================================================\n",
        " Input (InputLayer)          [(None, 32, 32, 3)]       None         \n",
        "                                                                 \n",
        " conv_1 (Conv2D)             (None, 32, 32, 16)        ReLU       \n",
        "                                                                 \n",
        " conv_2 (Conv2D)             (None, 32, 32, 16)        ReLU      \n",
        "                                                                 \n",
        " pool_1 (MaxPooling2D)       (None, 16, 16, 16)        None         \n",
        "                                                                 \n",
        " conv_3 (Conv2D)             (None, 16, 16, 32)        ReLU      \n",
        "                                                                 \n",
        " conv_4 (Conv2D)             (None, 16, 16, 32)        ReLU      \n",
        "                                                                 \n",
        " pool_2 (MaxPooling2D)       (None, 8, 8, 32)          None         \n",
        "                                                                 \n",
        " conv_5 (Conv2D)             (None, 8, 8, 64)          ReLU     \n",
        "                                                                 \n",
        " conv_6 (Conv2D)             (None, 8, 8, 64)          ReLU     \n",
        "                                                                 \n",
        " pool_3 (MaxPooling2D)       (None, 4, 4, 64)          None         \n",
        "                                                                 \n",
        " flat (Flatten)              (None, 1024)              None         \n",
        "                                                                 \n",
        " fc_1 (Dense)                (None, 512)               ReLU    \n",
        "                                                                 \n",
        " Output (Dense)              (None, 10)                SoftMax      \n",
        "                                                                 \n",
        "=================================================================\n",
        "Total params: 602,010\n",
        "Trainable params: 602,010\n",
        "Non-trainable params: 0\n",
        "_________________________________________________________________\n",
        "```\n",
        "\n"
      ]
    },
    {
      "cell_type": "code",
      "execution_count": 5,
      "metadata": {
        "id": "b7EwKqO-1N6r"
      },
      "outputs": [],
      "source": [
        "### Create the model using the provided architecture\n",
        "\n",
        "from tensorflow.keras import layers, models\n",
        "\n",
        "Inp = layers.Input((32,32,3), dtype='float32', name='Model_Input')\n",
        "Conv1 = layers.Conv2D(16, (3,3), activation='relu',\n",
        "                      padding='same', name='conv_1')(Inp)\n",
        "Conv2 = layers.Conv2D(16, (3,3), activation='relu',\n",
        "                      padding='same', name='conv_2')(Conv1)\n",
        "Pool1 = layers.MaxPool2D(pool_size=(2,2),\n",
        "                         name='pool_1')(Conv2)\n",
        "Conv3 = layers.Conv2D(32, (3,3), activation='relu',\n",
        "                      padding='same', name='conv_3')(Pool1)\n",
        "Conv4 = layers.Conv2D(32, (3,3), activation='relu',\n",
        "                      padding='same', name='conv_4')(Conv3)\n",
        "Pool2 = layers.MaxPool2D(pool_size=(2,2),\n",
        "                         name='pool_2')(Conv4)\n",
        "Conv5 = layers.Conv2D(64, (3,3), activation='relu',\n",
        "                      padding='same', name='conv_5')(Pool2)\n",
        "Conv6 = layers.Conv2D(64, (3,3), activation='relu',\n",
        "                      padding='same', name='conv_6')(Conv5)\n",
        "Pool3 = layers.MaxPool2D(pool_size=(2,2),\n",
        "                         name='pool_3')(Conv6)\n",
        "Flat = layers.Flatten()(Pool3)\n",
        "Dense1 = layers.Dense(512, activation='relu', name='fc_1')(Flat)\n",
        "Dense2 = layers.Dense(10, activation='softmax', name='Output')(Dense1)\n",
        "\n",
        "\n"
      ]
    },
    {
      "cell_type": "code",
      "source": [
        "mnist_model = models.Model(inputs=Inp, outputs=Dense2)\n",
        "mnist_model.summary()"
      ],
      "metadata": {
        "colab": {
          "base_uri": "https://localhost:8080/"
        },
        "id": "epnSO2pA9Hpc",
        "outputId": "2ea74d54-2c5c-451a-a86a-2f7462cc87da"
      },
      "execution_count": 6,
      "outputs": [
        {
          "output_type": "stream",
          "name": "stdout",
          "text": [
            "Model: \"model\"\n",
            "_________________________________________________________________\n",
            " Layer (type)                Output Shape              Param #   \n",
            "=================================================================\n",
            " Model_Input (InputLayer)    [(None, 32, 32, 3)]       0         \n",
            "                                                                 \n",
            " conv_1 (Conv2D)             (None, 32, 32, 16)        448       \n",
            "                                                                 \n",
            " conv_2 (Conv2D)             (None, 32, 32, 16)        2320      \n",
            "                                                                 \n",
            " pool_1 (MaxPooling2D)       (None, 16, 16, 16)        0         \n",
            "                                                                 \n",
            " conv_3 (Conv2D)             (None, 16, 16, 32)        4640      \n",
            "                                                                 \n",
            " conv_4 (Conv2D)             (None, 16, 16, 32)        9248      \n",
            "                                                                 \n",
            " pool_2 (MaxPooling2D)       (None, 8, 8, 32)          0         \n",
            "                                                                 \n",
            " conv_5 (Conv2D)             (None, 8, 8, 64)          18496     \n",
            "                                                                 \n",
            " conv_6 (Conv2D)             (None, 8, 8, 64)          36928     \n",
            "                                                                 \n",
            " pool_3 (MaxPooling2D)       (None, 4, 4, 64)          0         \n",
            "                                                                 \n",
            " flatten (Flatten)           (None, 1024)              0         \n",
            "                                                                 \n",
            " fc_1 (Dense)                (None, 512)               524800    \n",
            "                                                                 \n",
            " Output (Dense)              (None, 10)                5130      \n",
            "                                                                 \n",
            "=================================================================\n",
            "Total params: 602,010\n",
            "Trainable params: 602,010\n",
            "Non-trainable params: 0\n",
            "_________________________________________________________________\n"
          ]
        }
      ]
    },
    {
      "cell_type": "code",
      "execution_count": 7,
      "metadata": {
        "id": "5nmP478X3qZk"
      },
      "outputs": [],
      "source": [
        "### Compile the model using the SGD optimizer, with default learning rate,\n",
        "### Sparse Categorical Crossentropy, and accuracy metric.\n",
        "mnist_model.compile(optimizer=optimizers.SGD(),\n",
        "                    loss=losses.SparseCategoricalCrossentropy(),\n",
        "                    metrics=['accuracy'])\n"
      ]
    },
    {
      "cell_type": "code",
      "execution_count": 8,
      "metadata": {
        "id": "cmnrcqwz37TO",
        "colab": {
          "base_uri": "https://localhost:8080/"
        },
        "outputId": "70978561-dac3-429f-b3eb-5fb9ed11b25a"
      },
      "outputs": [
        {
          "output_type": "stream",
          "name": "stdout",
          "text": [
            "Epoch 1/50\n",
            "391/391 [==============================] - 15s 10ms/step - loss: 2.2997 - accuracy: 0.1554 - val_loss: 2.2943 - val_accuracy: 0.2034\n",
            "Epoch 2/50\n",
            "391/391 [==============================] - 4s 9ms/step - loss: 2.2290 - accuracy: 0.2293 - val_loss: 2.1557 - val_accuracy: 0.1993\n",
            "Epoch 3/50\n",
            "391/391 [==============================] - 3s 7ms/step - loss: 1.9944 - accuracy: 0.2707 - val_loss: 1.9103 - val_accuracy: 0.3067\n",
            "Epoch 4/50\n",
            "391/391 [==============================] - 3s 8ms/step - loss: 1.8943 - accuracy: 0.3182 - val_loss: 1.7972 - val_accuracy: 0.3448\n",
            "Epoch 5/50\n",
            "391/391 [==============================] - 3s 8ms/step - loss: 1.7779 - accuracy: 0.3599 - val_loss: 1.7142 - val_accuracy: 0.3899\n",
            "Epoch 6/50\n",
            "391/391 [==============================] - 4s 9ms/step - loss: 1.6671 - accuracy: 0.4017 - val_loss: 1.7485 - val_accuracy: 0.3679\n",
            "Epoch 7/50\n",
            "391/391 [==============================] - 3s 7ms/step - loss: 1.5828 - accuracy: 0.4344 - val_loss: 1.5418 - val_accuracy: 0.4411\n",
            "Epoch 8/50\n",
            "391/391 [==============================] - 3s 8ms/step - loss: 1.5145 - accuracy: 0.4566 - val_loss: 1.4687 - val_accuracy: 0.4744\n",
            "Epoch 9/50\n",
            "391/391 [==============================] - 3s 8ms/step - loss: 1.4637 - accuracy: 0.4770 - val_loss: 1.4784 - val_accuracy: 0.4747\n",
            "Epoch 10/50\n",
            "391/391 [==============================] - 3s 9ms/step - loss: 1.4152 - accuracy: 0.4968 - val_loss: 1.4031 - val_accuracy: 0.4942\n",
            "Epoch 11/50\n",
            "391/391 [==============================] - 3s 8ms/step - loss: 1.3714 - accuracy: 0.5132 - val_loss: 1.3583 - val_accuracy: 0.5154\n",
            "Epoch 12/50\n",
            "391/391 [==============================] - 3s 8ms/step - loss: 1.3346 - accuracy: 0.5265 - val_loss: 1.3136 - val_accuracy: 0.5331\n",
            "Epoch 13/50\n",
            "391/391 [==============================] - 3s 8ms/step - loss: 1.2935 - accuracy: 0.5391 - val_loss: 1.3591 - val_accuracy: 0.5153\n",
            "Epoch 14/50\n",
            "391/391 [==============================] - 4s 9ms/step - loss: 1.2564 - accuracy: 0.5571 - val_loss: 1.2569 - val_accuracy: 0.5535\n",
            "Epoch 15/50\n",
            "391/391 [==============================] - 3s 8ms/step - loss: 1.2213 - accuracy: 0.5675 - val_loss: 1.2270 - val_accuracy: 0.5672\n",
            "Epoch 16/50\n",
            "391/391 [==============================] - 3s 8ms/step - loss: 1.1863 - accuracy: 0.5826 - val_loss: 1.2068 - val_accuracy: 0.5761\n",
            "Epoch 17/50\n",
            "391/391 [==============================] - 3s 8ms/step - loss: 1.1522 - accuracy: 0.5940 - val_loss: 1.2106 - val_accuracy: 0.5748\n",
            "Epoch 18/50\n",
            "391/391 [==============================] - 4s 9ms/step - loss: 1.1204 - accuracy: 0.6056 - val_loss: 1.1603 - val_accuracy: 0.5855\n",
            "Epoch 19/50\n",
            "391/391 [==============================] - 3s 8ms/step - loss: 1.0942 - accuracy: 0.6147 - val_loss: 1.1894 - val_accuracy: 0.5850\n",
            "Epoch 20/50\n",
            "391/391 [==============================] - 3s 8ms/step - loss: 1.0644 - accuracy: 0.6245 - val_loss: 1.2087 - val_accuracy: 0.5800\n",
            "Epoch 21/50\n",
            "391/391 [==============================] - 3s 8ms/step - loss: 1.0355 - accuracy: 0.6381 - val_loss: 1.2340 - val_accuracy: 0.5600\n",
            "Epoch 22/50\n",
            "391/391 [==============================] - 3s 9ms/step - loss: 1.0057 - accuracy: 0.6441 - val_loss: 1.1187 - val_accuracy: 0.6076\n",
            "Epoch 23/50\n",
            "391/391 [==============================] - 3s 8ms/step - loss: 0.9767 - accuracy: 0.6574 - val_loss: 1.0995 - val_accuracy: 0.6164\n",
            "Epoch 24/50\n",
            "391/391 [==============================] - 3s 8ms/step - loss: 0.9526 - accuracy: 0.6660 - val_loss: 1.1222 - val_accuracy: 0.6153\n",
            "Epoch 25/50\n",
            "391/391 [==============================] - 4s 9ms/step - loss: 0.9242 - accuracy: 0.6772 - val_loss: 1.0951 - val_accuracy: 0.6180\n",
            "Epoch 26/50\n",
            "391/391 [==============================] - 3s 8ms/step - loss: 0.8991 - accuracy: 0.6866 - val_loss: 1.0806 - val_accuracy: 0.6212\n",
            "Epoch 27/50\n",
            "391/391 [==============================] - 3s 8ms/step - loss: 0.8714 - accuracy: 0.6954 - val_loss: 1.0773 - val_accuracy: 0.6280\n",
            "Epoch 28/50\n",
            "391/391 [==============================] - 3s 8ms/step - loss: 0.8439 - accuracy: 0.7073 - val_loss: 1.0352 - val_accuracy: 0.6391\n",
            "Epoch 29/50\n",
            "391/391 [==============================] - 4s 10ms/step - loss: 0.8173 - accuracy: 0.7143 - val_loss: 1.0689 - val_accuracy: 0.6325\n",
            "Epoch 30/50\n",
            "391/391 [==============================] - 3s 8ms/step - loss: 0.7944 - accuracy: 0.7237 - val_loss: 1.0899 - val_accuracy: 0.6277\n",
            "Epoch 31/50\n",
            "391/391 [==============================] - 3s 8ms/step - loss: 0.7696 - accuracy: 0.7328 - val_loss: 1.0739 - val_accuracy: 0.6378\n",
            "Epoch 32/50\n",
            "391/391 [==============================] - 3s 8ms/step - loss: 0.7412 - accuracy: 0.7423 - val_loss: 1.1036 - val_accuracy: 0.6287\n",
            "Epoch 33/50\n",
            "391/391 [==============================] - 4s 10ms/step - loss: 0.7191 - accuracy: 0.7504 - val_loss: 1.1117 - val_accuracy: 0.6281\n",
            "Epoch 34/50\n",
            "391/391 [==============================] - 3s 8ms/step - loss: 0.6944 - accuracy: 0.7604 - val_loss: 1.0472 - val_accuracy: 0.6499\n",
            "Epoch 35/50\n",
            "391/391 [==============================] - 3s 8ms/step - loss: 0.6690 - accuracy: 0.7690 - val_loss: 1.1479 - val_accuracy: 0.6284\n",
            "Epoch 36/50\n",
            "391/391 [==============================] - 4s 9ms/step - loss: 0.6493 - accuracy: 0.7736 - val_loss: 1.1275 - val_accuracy: 0.6308\n",
            "Epoch 37/50\n",
            "391/391 [==============================] - 3s 9ms/step - loss: 0.6200 - accuracy: 0.7857 - val_loss: 1.1541 - val_accuracy: 0.6401\n",
            "Epoch 38/50\n",
            "391/391 [==============================] - 3s 8ms/step - loss: 0.5951 - accuracy: 0.7953 - val_loss: 1.0961 - val_accuracy: 0.6523\n",
            "Epoch 39/50\n",
            "391/391 [==============================] - 3s 8ms/step - loss: 0.5740 - accuracy: 0.7998 - val_loss: 1.1385 - val_accuracy: 0.6418\n",
            "Epoch 40/50\n",
            "391/391 [==============================] - 3s 9ms/step - loss: 0.5539 - accuracy: 0.8068 - val_loss: 1.2042 - val_accuracy: 0.6407\n",
            "Epoch 41/50\n",
            "391/391 [==============================] - 3s 8ms/step - loss: 0.5262 - accuracy: 0.8181 - val_loss: 1.1626 - val_accuracy: 0.6492\n",
            "Epoch 42/50\n",
            "391/391 [==============================] - 3s 8ms/step - loss: 0.5033 - accuracy: 0.8239 - val_loss: 1.1014 - val_accuracy: 0.6616\n",
            "Epoch 43/50\n",
            "391/391 [==============================] - 3s 8ms/step - loss: 0.4779 - accuracy: 0.8342 - val_loss: 1.1573 - val_accuracy: 0.6574\n",
            "Epoch 44/50\n",
            "391/391 [==============================] - 4s 9ms/step - loss: 0.4593 - accuracy: 0.8395 - val_loss: 1.3882 - val_accuracy: 0.6179\n",
            "Epoch 45/50\n",
            "391/391 [==============================] - 3s 8ms/step - loss: 0.4322 - accuracy: 0.8487 - val_loss: 1.3783 - val_accuracy: 0.6330\n",
            "Epoch 46/50\n",
            "391/391 [==============================] - 3s 8ms/step - loss: 0.4106 - accuracy: 0.8570 - val_loss: 1.3060 - val_accuracy: 0.6472\n",
            "Epoch 47/50\n",
            "391/391 [==============================] - 3s 8ms/step - loss: 0.3877 - accuracy: 0.8646 - val_loss: 1.2774 - val_accuracy: 0.6566\n",
            "Epoch 48/50\n",
            "391/391 [==============================] - 4s 9ms/step - loss: 0.3606 - accuracy: 0.8748 - val_loss: 1.5170 - val_accuracy: 0.6317\n",
            "Epoch 49/50\n",
            "391/391 [==============================] - 3s 8ms/step - loss: 0.3400 - accuracy: 0.8807 - val_loss: 1.4195 - val_accuracy: 0.6339\n",
            "Epoch 50/50\n",
            "391/391 [==============================] - 3s 8ms/step - loss: 0.3202 - accuracy: 0.8876 - val_loss: 1.5273 - val_accuracy: 0.6383\n",
            "<built-in method keys of dict object at 0x7f6470134180>\n"
          ]
        }
      ],
      "source": [
        "### Train the model for 50 epochs, with a batch size of 128. Include the test\n",
        "### data for model validation. Store the losses and metrics in a history object.\n",
        "history = mnist_model.fit(x=x_train, y=y_train, epochs=50,\n",
        "                          validation_data=(x_test, y_test),\n",
        "                          batch_size=128)\n",
        "\n",
        "# Keys inside the history dictionary.\n",
        "print(history.history.keys)\n"
      ]
    },
    {
      "cell_type": "code",
      "execution_count": 9,
      "metadata": {
        "id": "oQXwrFaG-LPq",
        "colab": {
          "base_uri": "https://localhost:8080/",
          "height": 545
        },
        "outputId": "d5edb81d-e4f5-4c64-820e-a187c2d70665"
      },
      "outputs": [
        {
          "output_type": "display_data",
          "data": {
            "text/plain": [
              "<Figure size 432x288 with 1 Axes>"
            ],
            "image/png": "[encoded data removed]"
          },
          "metadata": {
            "needs_background": "light"
          }
        },
        {
          "output_type": "display_data",
          "data": {
            "text/plain": [
              "<Figure size 432x288 with 1 Axes>"
            ],
            "image/png": "[encoded data removed]"
          },
          "metadata": {
            "needs_background": "light"
          }
        }
      ],
      "source": [
        "### Create plots of the losses and metrics of the training and validation data,\n",
        "### and plots that shows example test images from each class that have been\n",
        "### correctly AND incorrectly labelled by the model.\n",
        "plt.figure()\n",
        "plt.plot(history.history['loss'], label='Training')\n",
        "plt.plot(history.history['val_loss'], label='Validation')\n",
        "plt.legend(loc=0)\n",
        "plt.title('Model Loss')\n",
        "\n",
        "plt.figure()\n",
        "plt.plot(history.history['accuracy'], label='Training')\n",
        "plt.plot(history.history['val_accuracy'], label='Validation')\n",
        "plt.legend(loc=0)\n",
        "plt.title('Model Accuracy')\n",
        "\n",
        "plt.show()"
      ]
    },
    {
      "cell_type": "markdown",
      "metadata": {
        "id": "84jsOuq3-P-H"
      },
      "source": [
        "# Task 2 - Testing Optimizers\n",
        "\n",
        "Select two additional optimizers. Including the SGD algorithm already used, test all three of these optimizers with a range of different learning rates.\n",
        "\n",
        "You may need to train the model for more or less epochs to ensure that it converges on a solution.\n",
        "\n",
        "Create plots that show the losses and metrics for each of these runs, and comment on the results in your report.\n",
        "\n",
        "Select the optimizer and learning rate that provided the best results, and move onto the next task.\n",
        "\n",
        "**Note**: You should reset the weights of the model between each test. A function is provided to perform this task. Store the losses and metrics of each run under a different variable name, so that they can all be plotted together."
      ]
    },
    {
      "cell_type": "code",
      "execution_count": null,
      "metadata": {
        "id": "KMR0npBE_75_"
      },
      "outputs": [],
      "source": [
        "# Utility function that resets the weights of your model. Call this before\n",
        "# recompiling your model with updated settings, to ensure you train the model\n",
        "# from scratch.\n",
        "\n",
        "def reinitialize(model):\n",
        "    # Loop over the layers of the model\n",
        "    for l in model.layers:\n",
        "        # Check if the layer has initializers\n",
        "        if hasattr(l,\"kernel_initializer\"):\n",
        "            # Reset the kernel weights\n",
        "            l.kernel.assign(l.kernel_initializer(tf.shape(l.kernel)))\n",
        "        if hasattr(l,\"bias_initializer\"):\n",
        "            # Reset the bias\n",
        "            l.bias.assign(l.bias_initializer(tf.shape(l.bias)))\n",
        "\n",
        "# Function modified from here: https://stackoverflow.com/questions/63435679/reset-all-weights-of-keras-model"
      ]
    },
    {
      "cell_type": "code",
      "execution_count": null,
      "metadata": {
        "id": "MSTCNsrJ5niP"
      },
      "outputs": [],
      "source": [
        "### Test the SGD Optimizer, plus two others of your choice, with a range of\n",
        "### learning rates.\n"
      ]
    },
    {
      "cell_type": "code",
      "execution_count": null,
      "metadata": {
        "id": "jLUdOnVZAeG0"
      },
      "outputs": [],
      "source": [
        "### Create plots that show the losses and metrics for each of these runs, and\n",
        "### comment on the results in your report.\n"
      ]
    },
    {
      "cell_type": "markdown",
      "metadata": {
        "id": "_mv7U8Y_AlCc"
      },
      "source": [
        "# Task 3 - Testing Batch Sizes\n",
        "\n",
        "The batch size can heavily influence the amount of time it takes to train a model. Vary the batch size used to train the model and, utilising the Early Stopping callback provided, create plots that show how the time per epoch and total training time changes.\n",
        "\n",
        "Comment on these results in your report—consider both how the batch size influences the number of epochs it takes to reach a solution, and how long each epoch takes to run. Why is this the case?"
      ]
    },
    {
      "cell_type": "code",
      "execution_count": null,
      "metadata": {
        "id": "HcCVuUfDAn3D"
      },
      "outputs": [],
      "source": [
        "### Train the model with a range of different batch sizes, resetting the weights\n",
        "### each time. Use an Early Stopping callback to prevent the model training for\n",
        "### too long.\n",
        "\n",
        "Early_Stop = callbacks.EarlyStopping(monitor='val_loss', patience=3)\n"
      ]
    },
    {
      "cell_type": "markdown",
      "metadata": {
        "id": "fqZH46DmBSXN"
      },
      "source": [
        "# Task 4 - Adding Regularisation\n",
        "\n",
        "The model as provided does not contain any regularisation techniques. Edit the model architecture to include at least two examples of regularisation. Retrain the model using the new architecture, and repeat the analysis performed in task 1.\n",
        "\n",
        "In your report, compare and contrast the results from this task, with those from the initial model configuration. Explain HOW and WHY the results are different, with consideration to the predicted classifications, losses and metrics."
      ]
    },
    {
      "cell_type": "code",
      "execution_count": null,
      "metadata": {
        "id": "AiLBxBQ3BvqV"
      },
      "outputs": [],
      "source": [
        "### Update the model architecture to include at least two types of regularization.\n",
        "### Train the model using the ideal settings found in previous tasks.\n"
      ]
    },
    {
      "cell_type": "code",
      "execution_count": null,
      "metadata": {
        "id": "70TKDDKcB681"
      },
      "outputs": [],
      "source": [
        "### Repeat your analysis from task 1, creating plots of the losses, metrics AND\n",
        "### predicted classifications of images in the test set.\n"
      ]
    }
  ],
  "metadata": {
    "colab": {
      "provenance": [],
      "include_colab_link": true
    },
    "gpuClass": "standard",
    "kernelspec": {
      "display_name": "Python 3 (ipykernel)",
      "language": "python",
      "name": "python3"
    },
    "language_info": {
      "codemirror_mode": {
        "name": "ipython",
        "version": 3
      },
      "file_extension": ".py",
      "mimetype": "text/x-python",
      "name": "python",
      "nbconvert_exporter": "python",
      "pygments_lexer": "ipython3",
      "version": "3.9.12"
    },
    "accelerator": "GPU"
  },
  "nbformat": 4,
  "nbformat_minor": 0
}